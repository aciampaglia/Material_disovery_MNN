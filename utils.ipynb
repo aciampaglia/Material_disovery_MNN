{
 "cells": [
  {
   "cell_type": "code",
   "execution_count": 1,
   "metadata": {},
   "outputs": [],
   "source": [
    "import numpy as np"
   ]
  },
  {
   "cell_type": "code",
   "execution_count": 3,
   "metadata": {},
   "outputs": [],
   "source": [
    "def Re(theta):\n",
    "    t = np.deg2rad(theta)\n",
    "    c = np.cos(t)\n",
    "    s = np.sin(t)\n",
    "    R = [[c**2, s**2, c*s], [s**2, c**2, -c*s], [-2*c*s, 2*c*s, c**2 - s**2]]\n",
    "    return R"
   ]
  }
 ],
 "metadata": {
  "kernelspec": {
   "display_name": "Python 3",
   "language": "python",
   "name": "python3"
  },
  "language_info": {
   "codemirror_mode": {
    "name": "ipython",
    "version": 3
   },
   "file_extension": ".py",
   "mimetype": "text/x-python",
   "name": "python",
   "nbconvert_exporter": "python",
   "pygments_lexer": "ipython3",
   "version": "3.8.5"
  }
 },
 "nbformat": 4,
 "nbformat_minor": 4
}
