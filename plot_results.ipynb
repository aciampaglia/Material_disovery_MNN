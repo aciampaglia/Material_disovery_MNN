{
 "cells": [
  {
   "cell_type": "code",
   "execution_count": null,
   "metadata": {},
   "outputs": [],
   "source": [
    "# Show simulation results\n",
    "from scipy.io import loadmat\n",
    "import matplotlib.pyplot as plt\n",
    "import numpy as np\n",
    "import matplotlib.cm as cm\n",
    "# from utils import Re"
   ]
  },
  {
   "cell_type": "code",
   "execution_count": null,
   "metadata": {},
   "outputs": [],
   "source": [
    "def Re(theta):\n",
    "    t = np.deg2rad(theta)\n",
    "    c = np.cos(t)\n",
    "    s = np.sin(t)\n",
    "    R = [[c**2, s**2, c*s], [s**2, c**2, -c*s], [-2*c*s, 2*c*s, c**2 - s**2]]\n",
    "    return R"
   ]
  },
  {
   "cell_type": "code",
   "execution_count": null,
   "metadata": {},
   "outputs": [],
   "source": [
    "theta = 5\n",
    "filename = 'Elastic_orthotropic_balanced\\\\tensile_{}.mat'.format(theta)\n",
    "data = loadmat(filename)\n",
    "n_frames = data['EPS'].shape[0]/data['nelem']"
   ]
  },
  {
   "cell_type": "code",
   "execution_count": null,
   "metadata": {},
   "outputs": [],
   "source": [
    "eps_l = data['EPS']\n",
    "eps_p = np.matmul(Re(theta), eps_l.T).T\n",
    "# Plot strains in principal ref. system\n",
    "colors = cm.viridis(np.linspace(0, 1, 45))\n",
    "plt.scatter(eps_p[:, 1], eps_p[:, 2], label='$\\\\theta$ ={}'.format(theta), marker='.', s=10, color=colors[theta], alpha=.4)\n",
    "plt.xlabel(r'$\\varepsilon_{2}$')\n",
    "plt.ylabel('$\\gamma_{12}$')\n",
    "plt.legend()\n",
    "plt.show()"
   ]
  },
  {
   "cell_type": "code",
   "execution_count": null,
   "metadata": {},
   "outputs": [],
   "source": [
    "## Apply damage to matrix\n",
    "gamma0 = 0.04\n",
    "gammaf = 0.4\n",
    "gamma = eps_p[:, 2]\n",
    "gamma = np.linspace(0, 0.2, 50)\n",
    "G12 = 2.5\n",
    "d12 = np.multiply((gamma>=gamma0),np.divide((gamma-gamma0),(gammaf-gamma0)))**0.7\n",
    "tau = G12*gamma - np.multiply(d12*G12, gamma)\n",
    "tau[gamma>gammaf] = 0\n",
    "plt.figure()\n",
    "plt.scatter(gamma, tau*10, marker='.')\n",
    "plt.scatter(gamma, gamma*G12)\n",
    "plt.scatter(gamma, d12)\n",
    "print('{} {}'.format(gamma.T, tau.T))\n",
    "np.savetxt(\"array.txt\", np.vstack((gamma, tau)).T, fmt='%20f', delimiter='')"
   ]
  },
  {
   "cell_type": "code",
   "execution_count": null,
   "metadata": {},
   "outputs": [],
   "source": [
    "# Plot strains at frame N\n",
    "N = 80\n",
    "nelem = data['nelem'][0][0].astype(int)\n",
    "plt.figure()\n",
    "print()\n",
    "plt.scatter(data['X'], data['Y'], c=eps_l[N*nelem:(N+1)*nelem, 1])\n",
    "plt.axis('equal')\n",
    "plt.colorbar()\n",
    "plt.show()"
   ]
  },
  {
   "cell_type": "code",
   "execution_count": null,
   "metadata": {},
   "outputs": [],
   "source": [
    "# Plot divergence\n",
    "from matplotlib.tri import *\n",
    "tri = Triangulation(data['X'].flatten(), data['Y'].flatten())\n",
    "Fx = LinearTriInterpolator(tri, eps_l[N*nelem:(N+1)*nelem, 0]+eps_l[N*nelem:(N+1)*nelem, 2])\n",
    "Fy = LinearTriInterpolator(tri, eps_l[N*nelem:(N+1)*nelem, 1]+eps_l[N*nelem:(N+1)*nelem, 2])\n",
    "gradx = Fx.gradient(data['X'], data['Y'])\n",
    "grady = Fy.gradient(data['X'], data['Y'])\n",
    "plt.scatter(data['X'], data['Y'], c=gradx[0]+grady[0]+gradx[1]+grady[1])\n",
    "plt.axis('equal')\n",
    "plt.colorbar()\n",
    "plt.show()"
   ]
  },
  {
   "cell_type": "code",
   "execution_count": null,
   "metadata": {},
   "outputs": [],
   "source": [
    "gxy = np.linspace(0, 0.22, 5000)\n",
    "noise = np.random.normal(0, 0.08*np.sqrt(gxy), len(gxy))\n",
    "G12 = 2.22 + np.zeros(gxy.shape)\n",
    "G12[gxy>=0.05] = 2.22 - np.multiply(2.5/0.15, gxy[gxy>=0.05]-0.05)\n",
    "G12 = G12 + noise\n",
    "G12[gxy>=0.2] = 0\n",
    "txy_e = np.multiply(gxy, G12)\n",
    "# txy_e = 2.5*gxy\n",
    "# txy_e[gxy>=0.05] = txy_e[gxy>=0.05] - gxy[gxy>=0.05]*np.multiply(2.5/0.15, gxy[gxy>=0.05]-0.05)\n",
    "# txy_e[gxy>=0.2] = 0\n",
    "\n",
    "import matplotlib\n",
    "matplotlib.rcParams['font.sans-serif'] = \"Helvetica\"\n",
    "plt.figure(dpi=150, figsize = [3, 3])\n",
    "plt.scatter(gxy, (txy_e), marker='.', s=2, alpha=.3, label='$\\gamma_{12}$ - $\\\\tau_{12}$')\n",
    "plt.xlim(0, 0.25), plt.ylim(0)\n",
    "plt.xlabel('Strain'), plt.ylabel('Stress [GPa]')\n",
    "plt.legend(loc='best')\n",
    "plt.tight_layout()\n",
    "ax = plt.gca()\n",
    "from matplotlib.ticker import FuncFormatter\n",
    "\n",
    "def format_fn(tick_val, tick_pos):\n",
    "    return \"{:.2f}\".format(tick_val)\n",
    "\n",
    "ax.yaxis.set_major_formatter(FuncFormatter(format_fn))\n",
    "plt.savefig('Std_test_dmg.png', dpi=None, facecolor='w', edgecolor='w',\n",
    "        orientation='portrait', papertype=None, format=None,\n",
    "        transparent=False, bbox_inches=None, pad_inches=0.1,\n",
    "        frameon=None, metadata=None)"
   ]
  },
  {
   "cell_type": "code",
   "execution_count": null,
   "metadata": {},
   "outputs": [],
   "source": [
    "import matplotlib\n",
    "matplotlib.rcParams['font.sans-serif'] = \"Helvetica\"\n",
    "plt.figure(dpi=150, figsize = [3, 3])\n",
    "plt.scatter(gxy, np.divide(txy_e, gxy), marker='.', s=2, alpha=.3, label='$\\gamma_{12}$ - $G_{12}$')\n",
    "plt.xlim(0, 0.25), plt.ylim(0)\n",
    "plt.xlabel('Strain'), plt.ylabel('Stiffness [GPa]')\n",
    "plt.legend(loc='best')\n",
    "plt.tight_layout()\n",
    "ax = plt.gca()\n",
    "from matplotlib.ticker import FuncFormatter\n",
    "\n",
    "def format_fn(tick_val, tick_pos):\n",
    "    return \"{:.2f}\".format(tick_val)\n",
    "\n",
    "ax.yaxis.set_major_formatter(FuncFormatter(format_fn))\n",
    "plt.savefig('Std_test_dmg_G12.png', dpi=None, facecolor='w', edgecolor='w',\n",
    "        orientation='portrait', format=None,\n",
    "        transparent=False, bbox_inches=None, pad_inches=0.1,\n",
    "        metadata=None)"
   ]
  }
 ],
 "metadata": {
  "kernelspec": {
   "display_name": "Python 3",
   "language": "python",
   "name": "python3"
  },
  "language_info": {
   "codemirror_mode": {
    "name": "ipython",
    "version": 3
   },
   "file_extension": ".py",
   "mimetype": "text/x-python",
   "name": "python",
   "nbconvert_exporter": "python",
   "pygments_lexer": "ipython3",
   "version": "3.8.5"
  }
 },
 "nbformat": 4,
 "nbformat_minor": 4
}
