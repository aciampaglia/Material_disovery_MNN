{
 "cells": [
  {
   "cell_type": "code",
   "execution_count": 510,
   "metadata": {},
   "outputs": [],
   "source": [
    "import scipy\n",
    "import scipy.io\n",
    "import scipy.integrate\n",
    "import numpy as np\n",
    "import tensorflow as tf\n",
    "from tensorflow.keras.layers import Input, Dense, Reshape, Activation, Concatenate, Lambda, Multiply, Dot, Add\n",
    "from tensorflow.keras import Model\n",
    "from tensorflow.keras.utils import get_custom_objects\n",
    "from tensorflow.keras.callbacks import EarlyStopping\n",
    "from tensorflow.keras import regularizers\n",
    "from tensorflow.keras import backend as K\n",
    "import matplotlib.pyplot as plt\n",
    "from datetime import datetime as dt\n",
    "from sklearn.cluster import KMeans\n",
    "from sklearn.preprocessing import MinMaxScaler, StandardScaler\n",
    "from sklearn.decomposition import PCA\n",
    "from matplotlib.tri import *\n",
    "import random\n"
   ]
  },
  {
   "cell_type": "code",
   "execution_count": 511,
   "metadata": {},
   "outputs": [],
   "source": [
    "def rotate_e(xt, theta):\n",
    "    alpha = np.deg2rad(theta)\n",
    "    c = np.cos(alpha)\n",
    "    s = np.sin(alpha)\n",
    "    x = np.transpose(xt)\n",
    "    # R = [[1, 0, 0], [0, 1, 0], [0, 0, 2]]\n",
    "    # Rm = [[1, 0, 0], [0, 1, 0], [0, 0, .5]]\n",
    "    T = [[c ** 2, s ** 2, s * c], [s ** 2, c ** 2, -s * c], [- 2 *s * c, 2 * s * c, c ** 2 - s ** 2]]\n",
    "    # eps_ = np.transpose(np.matmul(rot, x))\n",
    "    eps_ = np.transpose(np.matmul(T, x))\n",
    "    return eps_\n",
    "\n",
    "\n",
    "def rotate_s(x, theta):\n",
    "    alpha = np.deg2rad(theta)\n",
    "    c = np.cos(alpha)\n",
    "    s = np.sin(alpha)\n",
    "    # x = np.transpose(xt)\n",
    "    T = [[c ** 2, s ** 2, 2 * s * c], [s ** 2, c ** 2, -2 * s * c], [s * c, s * c, c ** 2 - s ** 2]]\n",
    "    Tinv = np.linalg.inv(T)\n",
    "    x_ = np.transpose(np.matmul(Tinv, x))\n",
    "    return x_"
   ]
  },
  {
   "cell_type": "code",
   "execution_count": 513,
   "metadata": {},
   "outputs": [],
   "source": [
    "class TestData:\n",
    "    def __init__(self, folder, filename, remove_frames=0, angle='auto', shear='eng'):\n",
    "        if filename[-4:] != '.mat':\n",
    "            filename = filename + '.mat'\n",
    "        self.name = filename\n",
    "        self.data = scipy.io.loadmat(folder+'\\\\'+filename)\n",
    "        self.nelem = np.squeeze(self.data['nelem']).astype(int)\n",
    "        self.remove_frames = remove_frames\n",
    "\n",
    "        self.d = self.data['d']\n",
    "        self.f = self.data['F']\n",
    "        self.W = 2*np.abs(scipy.integrate.cumtrapz(self.f, self.d, axis=0, initial=0))\n",
    "        self.n_frames = int(self.data['d'].shape[0] - remove_frames)\n",
    "        self.eps = self.data['EPS'][:self.n_frames*self.nelem, :]\n",
    "        self.eps_raw = self.data['EPS'][:self.n_frames*self.nelem, :]\n",
    "        if shear == 'true':\n",
    "            self.eps[:, 2] = 2 * self.eps[:, 2]\n",
    "            self.eps_raw[:, 2] = 2 * self.eps_raw[:, 2]\n",
    "        self.We = np.repeat(self.W, self.nelem, axis=0)\n",
    "        self.area = self.data['area']\n",
    "        self.nodes, self.coordinates = self.data['nodes'], self.data['coordinates']\n",
    "        self.theta = 0\n",
    "        self.train_data = None\n",
    "        self.X = self.data['X']\n",
    "        self.Y = self.data['Y']\n",
    "        self.kmean = None\n",
    "        self.labels = None\n",
    "        self.centers = None\n",
    "        if angle=='auto':\n",
    "            if filename[0] == 'A':\n",
    "                angle = 45\n",
    "            else:\n",
    "                angle = 0\n",
    "        self.angle = angle\n",
    "        self.rotate(self.angle)\n",
    "\n",
    "        self.x_test = None\n",
    "        self.x_train = None\n",
    "        self.y_train = None\n",
    "        self.y_test = None\n",
    "        \n",
    "    def cluster(self, n_clusters):\n",
    "        x = self.eps_raw\n",
    "        x[x < 1e-5] = 0\n",
    "        xu, ic = np.unique(x, return_inverse=True, axis=0)\n",
    "        print('Finding unique values ..')\n",
    "        pca = PCA(n_components=2).fit(xu)\n",
    "        print('Computing Principal Components ..')\n",
    "        xu_pca = pca.transform(xu)\n",
    "        print('Clustering ..')\n",
    "        kmean = KMeans(n_clusters=n_clusters).fit(xu_pca)\n",
    "        xu_cluster = pca.inverse_transform(kmean.cluster_centers_)[kmean.labels_, :]\n",
    "        x_clustered = xu_cluster[ic, :]\n",
    "        self.eps = x_clustered\n",
    "        self.labels = kmean.labels_[ic]\n",
    "        self.kmean = kmean\n",
    "        self.centers = pca.inverse_transform(kmean.cluster_centers_)\n",
    "\n",
    "    def __str__(self):\n",
    "        return f\"{self.name} has {self.nelem} elements\"\n",
    "\n",
    "    def rotate(self, alpha):\n",
    "        self.eps = rotate_e(self.data['EPS'], alpha)\n",
    "        self.theta += alpha\n",
    "\n",
    "    def mirror(self):\n",
    "        self.eps = np.concatenate((self.eps, rotate_e(self.eps, self.theta - 90)))\n",
    "        self.We = np.concatenate((self.We, self.We))\n",
    "\n",
    "    def prepare(self, test_split=0.2):\n",
    "        test_size = np.round(test_split * self.n_frames).astype(int)\n",
    "        test_frames = np.sort(\n",
    "            np.random.choice(\n",
    "                self.n_frames,\n",
    "                np.squeeze(test_size), replace=False).astype(int))\n",
    "        train_frames = np.setdiff1d(np.arange(self.n_frames), test_frames).astype(int)\n",
    "        x_test = np.zeros((1, self.eps.shape[1]))\n",
    "        x_train = np.zeros((1, self.eps.shape[1]))\n",
    "        y_test = np.zeros((1, 1))\n",
    "        y_train = np.zeros((1, 1))\n",
    "        for i in np.arange(test_frames.shape[0]):\n",
    "            x_test = np.append(x_test,\n",
    "                               self.eps[np.arange(test_frames[i] * self.nelem, test_frames[i] * self.nelem + self.nelem).astype(int), :],\n",
    "                               axis=0)\n",
    "            y_test = np.append(y_test,\n",
    "                               self.We[np.arange(test_frames[i] * self.nelem, test_frames[i] * self.nelem + self.nelem).astype(int),\n",
    "                               :], axis=0)\n",
    "        for i in np.arange(train_frames.shape[0]):\n",
    "            x_train = np.append(x_train,\n",
    "                                self.eps[np.arange(train_frames[i] * self.nelem, train_frames[i] * self.nelem + self.nelem).astype(int), :],\n",
    "                                axis=0)\n",
    "            y_train = np.append(y_train, self.We[\n",
    "                                         np.arange(train_frames[i] * self.nelem, train_frames[i] * self.nelem + self.nelem).astype(\n",
    "                                             int), :], axis=0)\n",
    "        self.x_test = x_test[1:, :]\n",
    "        self.x_train = x_train[1:, :]\n",
    "        self.y_train = y_train[1:, :]\n",
    "        self.y_test = y_test[1:, :]\n",
    "\n",
    "        print('The real test size is: ' + str(100 * x_test.shape[0] / (x_test.shape[0] + x_train.shape[0])) + ' %')\n",
    "\n",
    "        return self.x_train, self.x_test, self.y_train, self.y_test\n",
    "\n"
   ]
  },
  {
   "cell_type": "code",
   "execution_count": 514,
   "metadata": {},
   "outputs": [],
   "source": [
    " class pinn_model:\n",
    "    def __init__(self, norm=False):\n",
    "        self.net = None\n",
    "        self.sub_net = None\n",
    "        self.norm = norm\n",
    "        self.hist = None\n",
    "        self.train_data = None\n",
    "        self.Xscaler = None\n",
    "        self.Yscaler = None\n",
    "        self.x_train, self.y_train = None, None\n",
    "        self.x_test, self.y_test = None, None\n",
    "            \n",
    "    def build_e(self, n_layers, n_neurons, act_fun, thickness, area):        \n",
    "        # Input layer\n",
    "        strains = Input(shape=(3,), name='strains')\n",
    "        strains_t = Reshape((1, 3))(strains)\n",
    "\n",
    "        # Normalized\n",
    "        strains_n = Input(shape=(3,), name='strains_n')\n",
    "        strains_nt = Reshape((1, 3))(strains)\n",
    "\n",
    "        # Common Hidden layers\n",
    "        if self.norm:\n",
    "            hidden_tr = Dense(units=n_neurons, activation=act_fun)(strains_nt)\n",
    "            hidden_dev = Dense(units=n_neurons, activation=act_fun)(strains_nt)\n",
    "            for i in range(n_layers):\n",
    "                hidden_tr = Dense(units=n_neurons, activation=act_fun)(hiddent_tr)\n",
    "                hidden_dev = Dense(units=n_neurons, activation=act_fun)(hidden_dev)\n",
    "        else:\n",
    "            hidden_tr = Dense(units=n_neurons, activation=act_fun)(strains_t)\n",
    "            hidden_dev = Dense(units=n_neurons, activation=act_fun)(strains_t)\n",
    "            for i in range(n_layers):\n",
    "                hidden_tr = Dense(units=n_neurons, activation=act_fun)(hidden_tr)\n",
    "                hidden_dev = Dense(units=n_neurons, activation=act_fun)(hidden_dev)\n",
    "\n",
    "        trC = Dense(units=2, activation='relu', name='trC')(hidden_tr)\n",
    "        devC = Dense(units=1, activation='relu')(hidden_dev)\n",
    "        C = Concatenate(axis=-1, name='C')([trC, devC])\n",
    "        \n",
    "        if self.norm:\n",
    "            trS = Multiply(name='out')([strains_n, trC])\n",
    "            Utr = Dot(axes=1)([strains_nt, trS])\n",
    "        else:\n",
    "            S = Multiply(name='out')([strains_t, C])\n",
    "            Utr = Dot(axes=2)([strains_t, S])\n",
    "\n",
    "        # Compute the internal energy\n",
    "        if self.norm:\n",
    "            self.net = Model(inputs=[strains, strains_n], outputs=Utr)\n",
    "        else:\n",
    "            self.net = Model(inputs=strains, outputs=Utr)\n",
    "        self.net.summary()\n",
    "        \n",
    "    def compile_e(self, optimizer='adam', metrics=[], test_data=None, wdiv=0.99, wen=0.01):\n",
    "        def divergence():\n",
    "            x, y = test_data.X.flatten(), test_data.Y.flatten()\n",
    "            # Select unconstrained points\n",
    "            i_constrained = y == y.max()\n",
    "            i_load = y == y.min()\n",
    "            i_unconstrained = np.squeeze(i_load == i_constrained)\n",
    "            # Select frames\n",
    "            i = np.array(random.randint(0, test_data.x_train.shape[0] / test_data.nelem - 1))\n",
    "            # Extract strains at frame i\n",
    "            xe = test_data.x_train[i * test_data.nelem:(i + 1) * test_data.nelem, :][i_unconstrained, :]\n",
    "            if model.norm:\n",
    "                model_c = Model(\n",
    "                    inputs=[model.net.get_layer('strains').input, model.net.get_layer('strains_n').input],\n",
    "                    outputs=model.net.get_layer('out').output\n",
    "                )\n",
    "                xe_n = model.Xscaler.transform(xe)\n",
    "                sig = model_c([xe, xe_n]).numpy() * model.Yscaler.scale_\n",
    "            else:\n",
    "                model_c = Model(inputs=model.net.get_layer('strains').input,\n",
    "                                outputs=model.net.get_layer('out').output)\n",
    "                sig = model_c(xe).numpy()\n",
    "            sig_p = rotate_s(np.squeeze(sig).T, test_data.angle)\n",
    "            #x, y = test_data.X.flatten(), test_data.Y.flatten()\n",
    "            tri = Triangulation(x[i_unconstrained], y[i_unconstrained])\n",
    "            Fx = LinearTriInterpolator(tri, sig_p[:, 0] + sig_p[:, 2])\n",
    "            Fy = LinearTriInterpolator(tri, sig_p[:, 1] + sig_p[:, 2])\n",
    "            gradx = Fx.gradient(x[i_unconstrained], y[i_unconstrained])\n",
    "            grady = Fy.gradient(x[i_unconstrained], y[i_unconstrained])\n",
    "            div = gradx[0] + grady[0] + gradx[1] + grady[1]\n",
    "            Ldiv = tf.reduce_mean(tf.math.square(tf.constant(div.flatten())))\n",
    "            return Ldiv\n",
    "\n",
    "        def Ltot(y_true, y_pred):\n",
    "            Wi = tf.reduce_sum(y_pred, axis=0)\n",
    "            We = tf.math.reduce_mean(y_true, axis=0)\n",
    "            L_div = divergence()\n",
    "            # L_en = tf.keras.metrics.mean_squared_error(external_work, system_internal_energy)\n",
    "            L_en = tf.math.abs(Wi - We)\n",
    "            loss = wen * tf.cast(L_en, dtype=tf.float64) + wdiv * L_div\n",
    "            # print('Divergence error: {} - Energy error: {}'.format(0.99*L_div, 0.01*L_en))\n",
    "            return loss\n",
    "\n",
    "        self.net.compile(loss=Ltot, optimizer=optimizer, run_eagerly=True, metrics=metrics)\n",
    "\n",
    "    def train(self, data, test_split=0.1):\n",
    "        self.train_data = data\n",
    "        early_stop = EarlyStopping(monitor='loss', patience=5, restore_best_weights=True)\n",
    "        x_train, x_test, y_train, y_test = data.prepare(test_split)\n",
    "        self.x_train, self.y_train = x_train, y_train\n",
    "        self.x_test, self.y_test = x_test, y_test\n",
    "        if self.norm:\n",
    "            sx = MinMaxScaler()\n",
    "            x_train_n = sx.fit_transform(x_train)\n",
    "            sy = StandardScaler(with_mean=False)\n",
    "            y_train_n = sy.fit_transform(y_train)\n",
    "            self.Xscaler = sx\n",
    "            self.Yscaler = sy\n",
    "\n",
    "            self.hist = self.net.fit([x_train, x_train_n], y_train_n,\n",
    "                                     validation_data=([x_test, sx.transform(x_test)], sy.transform(y_test)),\n",
    "                                     batch_size=data.nelem,\n",
    "                                     epochs=1000,\n",
    "                                     shuffle=False, callbacks=[early_stop],\n",
    "                                     verbose=1)\n",
    "        else:\n",
    "            self.hist = self.net.fit(x_train, y_train,\n",
    "                                     validation_data=(x_test, y_test),\n",
    "                                     batch_size=data.nelem,\n",
    "                                     epochs=1000,\n",
    "                                     shuffle=False, callbacks=[early_stop],\n",
    "                                     verbose=1)\n",
    "\n"
   ]
  },
  {
   "cell_type": "code",
   "execution_count": 515,
   "metadata": {},
   "outputs": [],
   "source": [
    "test_data = TestData('Damage_orthotropic_balanced', 'tensile_10', remove_frames=5, angle=46, shear='true')\n",
    "test_data.mirror()\n",
    "# # test_data.cluster(n_clusters=100)\n",
    "# x_train, x_test, y_train, y_test = test_data.prepare(test_split=0.1)\n",
    "thickness = 0.66*4"
   ]
  },
  {
   "cell_type": "code",
   "execution_count": 516,
   "metadata": {
    "scrolled": true
   },
   "outputs": [
    {
     "name": "stdout",
     "output_type": "stream",
     "text": [
      "Model: \"model_645264\"\n",
      "__________________________________________________________________________________________________\n",
      "Layer (type)                    Output Shape         Param #     Connected to                     \n",
      "==================================================================================================\n",
      "strains (InputLayer)            [(None, 3)]          0                                            \n",
      "__________________________________________________________________________________________________\n",
      "reshape_214 (Reshape)           (None, 1, 3)         0           strains[0][0]                    \n",
      "__________________________________________________________________________________________________\n",
      "dense_795 (Dense)               (None, 1, 10)        40          reshape_214[0][0]                \n",
      "__________________________________________________________________________________________________\n",
      "dense_796 (Dense)               (None, 1, 10)        40          reshape_214[0][0]                \n",
      "__________________________________________________________________________________________________\n",
      "dense_797 (Dense)               (None, 1, 10)        110         dense_795[0][0]                  \n",
      "__________________________________________________________________________________________________\n",
      "dense_798 (Dense)               (None, 1, 10)        110         dense_796[0][0]                  \n",
      "__________________________________________________________________________________________________\n",
      "dense_799 (Dense)               (None, 1, 10)        110         dense_797[0][0]                  \n",
      "__________________________________________________________________________________________________\n",
      "dense_800 (Dense)               (None, 1, 10)        110         dense_798[0][0]                  \n",
      "__________________________________________________________________________________________________\n",
      "dense_801 (Dense)               (None, 1, 10)        110         dense_799[0][0]                  \n",
      "__________________________________________________________________________________________________\n",
      "dense_802 (Dense)               (None, 1, 10)        110         dense_800[0][0]                  \n",
      "__________________________________________________________________________________________________\n",
      "trC (Dense)                     (None, 1, 2)         22          dense_801[0][0]                  \n",
      "__________________________________________________________________________________________________\n",
      "dense_803 (Dense)               (None, 1, 1)         11          dense_802[0][0]                  \n",
      "__________________________________________________________________________________________________\n",
      "C (Concatenate)                 (None, 1, 3)         0           trC[0][0]                        \n",
      "                                                                 dense_803[0][0]                  \n",
      "__________________________________________________________________________________________________\n",
      "out (Multiply)                  (None, 1, 3)         0           reshape_214[0][0]                \n",
      "                                                                 C[0][0]                          \n",
      "__________________________________________________________________________________________________\n",
      "dot_105 (Dot)                   (None, 1, 1)         0           reshape_214[0][0]                \n",
      "                                                                 out[0][0]                        \n",
      "==================================================================================================\n",
      "Total params: 773\n",
      "Trainable params: 773\n",
      "Non-trainable params: 0\n",
      "__________________________________________________________________________________________________\n",
      "The real test size is: 10.309605693973658 %\n",
      "Epoch 1/1000\n",
      "87/87 [==============================] - 10s 118ms/step - loss: 0.9429 - val_loss: 2.2014\n",
      "Epoch 2/1000\n",
      "87/87 [==============================] - 10s 116ms/step - loss: 0.6931 - val_loss: 1.6522\n",
      "Epoch 3/1000\n",
      "87/87 [==============================] - 11s 128ms/step - loss: 0.5368 - val_loss: 1.3772\n",
      "Epoch 4/1000\n",
      "87/87 [==============================] - 10s 117ms/step - loss: 0.4469 - val_loss: 1.1175\n",
      "Epoch 5/1000\n",
      "87/87 [==============================] - 10s 118ms/step - loss: 0.4393 - val_loss: 0.9994\n",
      "Epoch 6/1000\n",
      "87/87 [==============================] - 10s 117ms/step - loss: 0.4220 - val_loss: 0.8810\n",
      "Epoch 7/1000\n",
      "87/87 [==============================] - 10s 117ms/step - loss: 0.2994 - val_loss: 0.4947\n",
      "Epoch 8/1000\n",
      "87/87 [==============================] - 10s 117ms/step - loss: 0.4639 - val_loss: 0.6802\n",
      "Epoch 9/1000\n",
      "87/87 [==============================] - 10s 118ms/step - loss: 0.2605 - val_loss: 0.5321\n",
      "Epoch 10/1000\n",
      "87/87 [==============================] - 10s 117ms/step - loss: 0.5318 - val_loss: 0.3891\n",
      "Epoch 11/1000\n",
      "87/87 [==============================] - 10s 116ms/step - loss: 0.5577 - val_loss: 0.1613\n",
      "Epoch 12/1000\n",
      "87/87 [==============================] - 10s 116ms/step - loss: 0.3466 - val_loss: 1.0046\n",
      "Epoch 13/1000\n",
      "87/87 [==============================] - 10s 116ms/step - loss: 0.3916 - val_loss: 0.6544\n",
      "Epoch 14/1000\n",
      "87/87 [==============================] - 10s 116ms/step - loss: 0.4568 - val_loss: 0.6524\n"
     ]
    }
   ],
   "source": [
    "# %% Create and train the model\n",
    "model = pinn_model(norm=False)\n",
    "model.build_e(n_layers=3, n_neurons=10, act_fun='tanh', thickness=thickness, area=test_data.area)\n",
    "model.compile_e(optimizer=tf.keras.optimizers.Adam(), test_data=test_data, wdiv=0.98, wen=0.02)\n",
    "model.train(data=test_data, test_split=0.1)"
   ]
  },
  {
   "cell_type": "code",
   "execution_count": 517,
   "metadata": {},
   "outputs": [
    {
     "data": {
      "text/plain": [
       "<matplotlib.legend.Legend at 0x25f417ee820>"
      ]
     },
     "execution_count": 517,
     "metadata": {},
     "output_type": "execute_result"
    },
    {
     "data": {
      "image/png": "[encoded data removed]",
      "text/plain": [
       "<Figure size 432x288 with 1 Axes>"
      ]
     },
     "metadata": {
      "needs_background": "light"
     },
     "output_type": "display_data"
    }
   ],
   "source": [
    "# Plot loss \n",
    "plt.plot(model.hist.history['loss'], label='training')\n",
    "plt.plot(model.hist.history['val_loss'], label='validation')\n",
    "# plt.ylim(0, 0.6)\n",
    "plt.legend()"
   ]
  },
  {
   "cell_type": "code",
   "execution_count": 518,
   "metadata": {},
   "outputs": [
    {
     "data": {
      "image/png": "[encoded data removed]",
      "text/plain": [
       "<Figure size 450x450 with 1 Axes>"
      ]
     },
     "metadata": {
      "needs_background": "light"
     },
     "output_type": "display_data"
    }
   ],
   "source": [
    "import matplotlib\n",
    "matplotlib.rcParams['font.sans-serif'] = \"Helvetica\"\n",
    "\n",
    "# Plot predicted stress-strain\n",
    "# print(model.net.summary())\n",
    "plt.figure(dpi=150, figsize = [3, 3])\n",
    "model_s = Model(model.net.get_layer('strains').input, model.net.get_layer('out').output)\n",
    "S = model_s.predict(test_data.x_train)\n",
    "ex = np.linspace(-0.01, 0.02, 100)\n",
    "ey = np.linspace(-0.01, 0.01, 100)\n",
    "gxy = np.linspace(-0.1, 0.3, 100)\n",
    "E1, E2, v12, v21, G12 = 48, 48, 0.14, 0.14, 2.5\n",
    "skip = np.round(model.x_train.shape[0]/100, decimals=0).astype(int)\n",
    "# Plot e1 vs s1\n",
    "plt.scatter(model.x_train[::skip, 0], S[::skip, 0, 0], s=4, alpha=0.3, label='$\\\\varepsilon_{11} - \\sigma_{11}$')\n",
    "plt.plot(ex, E1*(ex)-v12*E2*ey, linestyle='--', alpha=.6, color='black', label='Reference')\n",
    "# Plot e2 vs s2\n",
    "# plt.figure()\n",
    "plt.scatter(model.x_train[::skip, 1],  S[::skip, 0, 1], s=4, alpha=0.3, label='$\\\\varepsilon_{22} - \\sigma_{22}$')\n",
    "plt.plot(ey, E2*ey-v21*E1*ex, linestyle='--', alpha=.3, color='black')\n",
    "# Plot gamma12 vs tau12\n",
    "# plt.figure()\n",
    "plt.scatter(model.x_train[::skip, 2], S[::skip, 0, 2], s=4, alpha=0.3, label='$\\\\gamma_{12} - \\\\tau_{12}$')\n",
    "plt.plot(gxy, G12*gxy, linestyle='--', alpha=.6, color='black')\n",
    "plt.xlabel('Strain'), plt.ylabel('Stress [GPa]')\n",
    "plt.ylim(0, 1), plt.xlim(0,)\n",
    "plt.legend()\n",
    "plt.tight_layout()\n",
    "# plt.savefig('Ortho_elastic.png', dpi=None, facecolor='w', edgecolor='w',\n",
    "#         orientation='portrait', papertype=None, format=None,\n",
    "#         transparent=False, bbox_inches=None, pad_inches=0.1,\n",
    "#         frameon=None, metadata=None)"
   ]
  },
  {
   "cell_type": "code",
   "execution_count": 519,
   "metadata": {},
   "outputs": [
    {
     "data": {
      "text/plain": [
       "<matplotlib.legend.Legend at 0x25f2df27a60>"
      ]
     },
     "execution_count": 519,
     "metadata": {},
     "output_type": "execute_result"
    },
    {
     "data": {
      "image/png": "[encoded data removed]",
      "text/plain": [
       "<Figure size 432x288 with 1 Axes>"
      ]
     },
     "metadata": {
      "needs_background": "light"
     },
     "output_type": "display_data"
    }
   ],
   "source": [
    "# Plot predicted stiffness\n",
    "plt.figure()\n",
    "model_c = Model(model.net.get_layer('strains').input, model.net.get_layer('C').output)\n",
    "C = model_c.predict(model.x_train)\n",
    "# Plot e1 vs C11\n",
    "plt.scatter(model.x_train[::skip, 0], C[::skip, 0, 0], s=10, alpha=0.5, label='$C_{11}$')\n",
    "plt.plot(ex, ex*0+E1, linestyle='--', alpha=.5, color='black')\n",
    "# Plot e2 vs C22\n",
    "plt.scatter(model.x_train[::skip, 1], C[::skip, 0, 1], s=10, alpha=0.5, label='$C_{22}$')\n",
    "plt.plot(ey, ey*0+E2, linestyle='--', alpha=.5, color='black')\n",
    "# Plot gamma12 vs C66\n",
    "plt.scatter(model.x_train[::skip, 2], C[::skip, 0, 2], s=10, alpha=0.5, label='$C_{66}$')\n",
    "plt.plot(gxy, 0*gxy+G12, linestyle='--', alpha=.5, color='black')\n",
    "plt.xlabel('Strain'), plt.ylabel('Stress [GPa]')\n",
    "# plt.ylim(-1, 1)\n",
    "plt.legend()"
   ]
  },
  {
   "cell_type": "code",
   "execution_count": 484,
   "metadata": {},
   "outputs": [
    {
     "ename": "TypeError",
     "evalue": "__init__() missing 1 required positional argument: 'filename'",
     "output_type": "error",
     "traceback": [
      "\u001b[1;31m---------------------------------------------------------------------------\u001b[0m",
      "\u001b[1;31mTypeError\u001b[0m                                 Traceback (most recent call last)",
      "\u001b[1;32m<ipython-input-484-e2747a93b7cc>\u001b[0m in \u001b[0;36m<module>\u001b[1;34m\u001b[0m\n\u001b[0;32m      1\u001b[0m \u001b[1;31m# Optimize architecture\u001b[0m\u001b[1;33m\u001b[0m\u001b[1;33m\u001b[0m\u001b[1;33m\u001b[0m\u001b[0m\n\u001b[1;32m----> 2\u001b[1;33m \u001b[0mtest_data\u001b[0m \u001b[1;33m=\u001b[0m \u001b[0mTestData\u001b[0m\u001b[1;33m(\u001b[0m\u001b[1;34m'tensile_15'\u001b[0m\u001b[1;33m,\u001b[0m \u001b[0mremove_frames\u001b[0m\u001b[1;33m=\u001b[0m\u001b[1;36m0\u001b[0m\u001b[1;33m,\u001b[0m \u001b[0mangle\u001b[0m\u001b[1;33m=\u001b[0m\u001b[1;36m15\u001b[0m\u001b[1;33m,\u001b[0m \u001b[0mshear\u001b[0m\u001b[1;33m=\u001b[0m\u001b[1;34m'true'\u001b[0m\u001b[1;33m)\u001b[0m\u001b[1;33m\u001b[0m\u001b[1;33m\u001b[0m\u001b[0m\n\u001b[0m\u001b[0;32m      3\u001b[0m \u001b[0mtest_data\u001b[0m\u001b[1;33m.\u001b[0m\u001b[0mmirror\u001b[0m\u001b[1;33m(\u001b[0m\u001b[1;33m)\u001b[0m\u001b[1;33m\u001b[0m\u001b[1;33m\u001b[0m\u001b[0m\n\u001b[0;32m      4\u001b[0m \u001b[0mx_train\u001b[0m\u001b[1;33m,\u001b[0m \u001b[0mx_test\u001b[0m\u001b[1;33m,\u001b[0m \u001b[0my_train\u001b[0m\u001b[1;33m,\u001b[0m \u001b[0my_test\u001b[0m \u001b[1;33m=\u001b[0m \u001b[0mtest_data\u001b[0m\u001b[1;33m.\u001b[0m\u001b[0mprepare\u001b[0m\u001b[1;33m(\u001b[0m\u001b[0mtest_split\u001b[0m\u001b[1;33m=\u001b[0m\u001b[1;36m0.01\u001b[0m\u001b[1;33m)\u001b[0m\u001b[1;33m\u001b[0m\u001b[1;33m\u001b[0m\u001b[0m\n\u001b[0;32m      5\u001b[0m \u001b[0mthickness\u001b[0m \u001b[1;33m=\u001b[0m \u001b[1;36m0.66\u001b[0m\u001b[1;33m*\u001b[0m\u001b[1;36m4\u001b[0m\u001b[1;33m\u001b[0m\u001b[1;33m\u001b[0m\u001b[0m\n",
      "\u001b[1;31mTypeError\u001b[0m: __init__() missing 1 required positional argument: 'filename'"
     ]
    }
   ],
   "source": [
    "# Optimize architecture\n",
    "test_data = TestData('tensile_15', remove_frames=0, angle=15, shear='true')\n",
    "test_data.mirror()\n",
    "x_train, x_test, y_train, y_test = test_data.prepare(test_split=0.01)\n",
    "thickness = 0.66*4\n",
    "\n",
    "n_neurons = np.arange(10, 35, 5)\n",
    "n_layers = np.arange(3, 11)\n",
    "models = []\n",
    "losses = []\n",
    "for nn in n_neurons:\n",
    "    for nl in n_layers:\n",
    "        model = pinn_model(norm=False)\n",
    "        model.build_e(n_layers=nl, n_neurons=nn, act_fun='tanh', thickness=thickness, area=test_data.area)\n",
    "        model.compile_e(optimizer=tf.keras.optimizers.Adam(), test_data=test_data, wdiv=0.95, wen=0.05)\n",
    "        model.train(data=test_data, test_split=0.01)\n",
    "        models.append(model)\n",
    "        losses.append(model.hist.history['loss'][-1])"
   ]
  },
  {
   "cell_type": "code",
   "execution_count": 278,
   "metadata": {},
   "outputs": [
    {
     "name": "stdout",
     "output_type": "stream",
     "text": [
      "Best configuration: 9 layers with 10 neurons\n"
     ]
    },
    {
     "ename": "ValueError",
     "evalue": "x and y must be the same size",
     "output_type": "error",
     "traceback": [
      "\u001b[1;31m---------------------------------------------------------------------------\u001b[0m",
      "\u001b[1;31mValueError\u001b[0m                                Traceback (most recent call last)",
      "\u001b[1;32m<ipython-input-278-f355a7eceef6>\u001b[0m in \u001b[0;36m<module>\u001b[1;34m\u001b[0m\n\u001b[0;32m     15\u001b[0m \u001b[0mE1\u001b[0m\u001b[1;33m,\u001b[0m \u001b[0mE2\u001b[0m\u001b[1;33m,\u001b[0m \u001b[0mv12\u001b[0m\u001b[1;33m,\u001b[0m \u001b[0mv21\u001b[0m\u001b[1;33m,\u001b[0m \u001b[0mG12\u001b[0m \u001b[1;33m=\u001b[0m \u001b[1;36m48\u001b[0m\u001b[1;33m,\u001b[0m \u001b[1;36m48\u001b[0m\u001b[1;33m,\u001b[0m \u001b[1;36m0.14\u001b[0m\u001b[1;33m,\u001b[0m \u001b[1;36m0.14\u001b[0m\u001b[1;33m,\u001b[0m \u001b[1;36m2.5\u001b[0m\u001b[1;33m\u001b[0m\u001b[1;33m\u001b[0m\u001b[0m\n\u001b[0;32m     16\u001b[0m \u001b[1;31m# Plot e1 vs s1\u001b[0m\u001b[1;33m\u001b[0m\u001b[1;33m\u001b[0m\u001b[1;33m\u001b[0m\u001b[0m\n\u001b[1;32m---> 17\u001b[1;33m \u001b[0mplt\u001b[0m\u001b[1;33m.\u001b[0m\u001b[0mscatter\u001b[0m\u001b[1;33m(\u001b[0m\u001b[0mx_train\u001b[0m\u001b[1;33m[\u001b[0m\u001b[1;33m:\u001b[0m\u001b[1;33m:\u001b[0m\u001b[1;36m1000\u001b[0m\u001b[1;33m,\u001b[0m \u001b[1;36m0\u001b[0m\u001b[1;33m]\u001b[0m\u001b[1;33m,\u001b[0m \u001b[0mS\u001b[0m\u001b[1;33m[\u001b[0m\u001b[1;33m:\u001b[0m\u001b[1;33m:\u001b[0m\u001b[1;36m1000\u001b[0m\u001b[1;33m,\u001b[0m \u001b[1;36m0\u001b[0m\u001b[1;33m,\u001b[0m \u001b[1;36m0\u001b[0m\u001b[1;33m]\u001b[0m\u001b[1;33m,\u001b[0m \u001b[0ms\u001b[0m\u001b[1;33m=\u001b[0m\u001b[1;36m4\u001b[0m\u001b[1;33m,\u001b[0m \u001b[0malpha\u001b[0m\u001b[1;33m=\u001b[0m\u001b[1;36m0.3\u001b[0m\u001b[1;33m,\u001b[0m \u001b[0mlabel\u001b[0m\u001b[1;33m=\u001b[0m\u001b[1;34m'$\\\\varepsilon_{11} - \\sigma_{11}$'\u001b[0m\u001b[1;33m)\u001b[0m\u001b[1;33m\u001b[0m\u001b[1;33m\u001b[0m\u001b[0m\n\u001b[0m\u001b[0;32m     18\u001b[0m \u001b[0mplt\u001b[0m\u001b[1;33m.\u001b[0m\u001b[0mplot\u001b[0m\u001b[1;33m(\u001b[0m\u001b[0mex\u001b[0m\u001b[1;33m,\u001b[0m \u001b[0mE1\u001b[0m\u001b[1;33m*\u001b[0m\u001b[1;33m(\u001b[0m\u001b[0mex\u001b[0m\u001b[1;33m)\u001b[0m\u001b[1;33m,\u001b[0m \u001b[0mlinestyle\u001b[0m\u001b[1;33m=\u001b[0m\u001b[1;34m'--'\u001b[0m\u001b[1;33m,\u001b[0m \u001b[0malpha\u001b[0m\u001b[1;33m=\u001b[0m\u001b[1;36m.6\u001b[0m\u001b[1;33m,\u001b[0m \u001b[0mcolor\u001b[0m\u001b[1;33m=\u001b[0m\u001b[1;34m'black'\u001b[0m\u001b[1;33m)\u001b[0m\u001b[1;33m\u001b[0m\u001b[1;33m\u001b[0m\u001b[0m\n\u001b[0;32m     19\u001b[0m \u001b[1;31m# Plot e2 vs s2\u001b[0m\u001b[1;33m\u001b[0m\u001b[1;33m\u001b[0m\u001b[1;33m\u001b[0m\u001b[0m\n",
      "\u001b[1;32mC:\\ProgramData\\Anaconda3\\lib\\site-packages\\matplotlib\\pyplot.py\u001b[0m in \u001b[0;36mscatter\u001b[1;34m(x, y, s, c, marker, cmap, norm, vmin, vmax, alpha, linewidths, verts, edgecolors, plotnonfinite, data, **kwargs)\u001b[0m\n\u001b[0;32m   2888\u001b[0m         \u001b[0mverts\u001b[0m\u001b[1;33m=\u001b[0m\u001b[0mcbook\u001b[0m\u001b[1;33m.\u001b[0m\u001b[0mdeprecation\u001b[0m\u001b[1;33m.\u001b[0m\u001b[0m_deprecated_parameter\u001b[0m\u001b[1;33m,\u001b[0m\u001b[1;33m\u001b[0m\u001b[1;33m\u001b[0m\u001b[0m\n\u001b[0;32m   2889\u001b[0m         edgecolors=None, *, plotnonfinite=False, data=None, **kwargs):\n\u001b[1;32m-> 2890\u001b[1;33m     __ret = gca().scatter(\n\u001b[0m\u001b[0;32m   2891\u001b[0m         \u001b[0mx\u001b[0m\u001b[1;33m,\u001b[0m \u001b[0my\u001b[0m\u001b[1;33m,\u001b[0m \u001b[0ms\u001b[0m\u001b[1;33m=\u001b[0m\u001b[0ms\u001b[0m\u001b[1;33m,\u001b[0m \u001b[0mc\u001b[0m\u001b[1;33m=\u001b[0m\u001b[0mc\u001b[0m\u001b[1;33m,\u001b[0m \u001b[0mmarker\u001b[0m\u001b[1;33m=\u001b[0m\u001b[0mmarker\u001b[0m\u001b[1;33m,\u001b[0m \u001b[0mcmap\u001b[0m\u001b[1;33m=\u001b[0m\u001b[0mcmap\u001b[0m\u001b[1;33m,\u001b[0m \u001b[0mnorm\u001b[0m\u001b[1;33m=\u001b[0m\u001b[0mnorm\u001b[0m\u001b[1;33m,\u001b[0m\u001b[1;33m\u001b[0m\u001b[1;33m\u001b[0m\u001b[0m\n\u001b[0;32m   2892\u001b[0m         \u001b[0mvmin\u001b[0m\u001b[1;33m=\u001b[0m\u001b[0mvmin\u001b[0m\u001b[1;33m,\u001b[0m \u001b[0mvmax\u001b[0m\u001b[1;33m=\u001b[0m\u001b[0mvmax\u001b[0m\u001b[1;33m,\u001b[0m \u001b[0malpha\u001b[0m\u001b[1;33m=\u001b[0m\u001b[0malpha\u001b[0m\u001b[1;33m,\u001b[0m \u001b[0mlinewidths\u001b[0m\u001b[1;33m=\u001b[0m\u001b[0mlinewidths\u001b[0m\u001b[1;33m,\u001b[0m\u001b[1;33m\u001b[0m\u001b[1;33m\u001b[0m\u001b[0m\n",
      "\u001b[1;32mC:\\ProgramData\\Anaconda3\\lib\\site-packages\\matplotlib\\__init__.py\u001b[0m in \u001b[0;36minner\u001b[1;34m(ax, data, *args, **kwargs)\u001b[0m\n\u001b[0;32m   1436\u001b[0m     \u001b[1;32mdef\u001b[0m \u001b[0minner\u001b[0m\u001b[1;33m(\u001b[0m\u001b[0max\u001b[0m\u001b[1;33m,\u001b[0m \u001b[1;33m*\u001b[0m\u001b[0margs\u001b[0m\u001b[1;33m,\u001b[0m \u001b[0mdata\u001b[0m\u001b[1;33m=\u001b[0m\u001b[1;32mNone\u001b[0m\u001b[1;33m,\u001b[0m \u001b[1;33m**\u001b[0m\u001b[0mkwargs\u001b[0m\u001b[1;33m)\u001b[0m\u001b[1;33m:\u001b[0m\u001b[1;33m\u001b[0m\u001b[1;33m\u001b[0m\u001b[0m\n\u001b[0;32m   1437\u001b[0m         \u001b[1;32mif\u001b[0m \u001b[0mdata\u001b[0m \u001b[1;32mis\u001b[0m \u001b[1;32mNone\u001b[0m\u001b[1;33m:\u001b[0m\u001b[1;33m\u001b[0m\u001b[1;33m\u001b[0m\u001b[0m\n\u001b[1;32m-> 1438\u001b[1;33m             \u001b[1;32mreturn\u001b[0m \u001b[0mfunc\u001b[0m\u001b[1;33m(\u001b[0m\u001b[0max\u001b[0m\u001b[1;33m,\u001b[0m \u001b[1;33m*\u001b[0m\u001b[0mmap\u001b[0m\u001b[1;33m(\u001b[0m\u001b[0msanitize_sequence\u001b[0m\u001b[1;33m,\u001b[0m \u001b[0margs\u001b[0m\u001b[1;33m)\u001b[0m\u001b[1;33m,\u001b[0m \u001b[1;33m**\u001b[0m\u001b[0mkwargs\u001b[0m\u001b[1;33m)\u001b[0m\u001b[1;33m\u001b[0m\u001b[1;33m\u001b[0m\u001b[0m\n\u001b[0m\u001b[0;32m   1439\u001b[0m \u001b[1;33m\u001b[0m\u001b[0m\n\u001b[0;32m   1440\u001b[0m         \u001b[0mbound\u001b[0m \u001b[1;33m=\u001b[0m \u001b[0mnew_sig\u001b[0m\u001b[1;33m.\u001b[0m\u001b[0mbind\u001b[0m\u001b[1;33m(\u001b[0m\u001b[0max\u001b[0m\u001b[1;33m,\u001b[0m \u001b[1;33m*\u001b[0m\u001b[0margs\u001b[0m\u001b[1;33m,\u001b[0m \u001b[1;33m**\u001b[0m\u001b[0mkwargs\u001b[0m\u001b[1;33m)\u001b[0m\u001b[1;33m\u001b[0m\u001b[1;33m\u001b[0m\u001b[0m\n",
      "\u001b[1;32mC:\\ProgramData\\Anaconda3\\lib\\site-packages\\matplotlib\\cbook\\deprecation.py\u001b[0m in \u001b[0;36mwrapper\u001b[1;34m(*inner_args, **inner_kwargs)\u001b[0m\n\u001b[0;32m    409\u001b[0m                          \u001b[1;32melse\u001b[0m \u001b[0mdeprecation_addendum\u001b[0m\u001b[1;33m,\u001b[0m\u001b[1;33m\u001b[0m\u001b[1;33m\u001b[0m\u001b[0m\n\u001b[0;32m    410\u001b[0m                 **kwargs)\n\u001b[1;32m--> 411\u001b[1;33m         \u001b[1;32mreturn\u001b[0m \u001b[0mfunc\u001b[0m\u001b[1;33m(\u001b[0m\u001b[1;33m*\u001b[0m\u001b[0minner_args\u001b[0m\u001b[1;33m,\u001b[0m \u001b[1;33m**\u001b[0m\u001b[0minner_kwargs\u001b[0m\u001b[1;33m)\u001b[0m\u001b[1;33m\u001b[0m\u001b[1;33m\u001b[0m\u001b[0m\n\u001b[0m\u001b[0;32m    412\u001b[0m \u001b[1;33m\u001b[0m\u001b[0m\n\u001b[0;32m    413\u001b[0m     \u001b[1;32mreturn\u001b[0m \u001b[0mwrapper\u001b[0m\u001b[1;33m\u001b[0m\u001b[1;33m\u001b[0m\u001b[0m\n",
      "\u001b[1;32mC:\\ProgramData\\Anaconda3\\lib\\site-packages\\matplotlib\\axes\\_axes.py\u001b[0m in \u001b[0;36mscatter\u001b[1;34m(self, x, y, s, c, marker, cmap, norm, vmin, vmax, alpha, linewidths, verts, edgecolors, plotnonfinite, **kwargs)\u001b[0m\n\u001b[0;32m   4439\u001b[0m         \u001b[0my\u001b[0m \u001b[1;33m=\u001b[0m \u001b[0mnp\u001b[0m\u001b[1;33m.\u001b[0m\u001b[0mma\u001b[0m\u001b[1;33m.\u001b[0m\u001b[0mravel\u001b[0m\u001b[1;33m(\u001b[0m\u001b[0my\u001b[0m\u001b[1;33m)\u001b[0m\u001b[1;33m\u001b[0m\u001b[1;33m\u001b[0m\u001b[0m\n\u001b[0;32m   4440\u001b[0m         \u001b[1;32mif\u001b[0m \u001b[0mx\u001b[0m\u001b[1;33m.\u001b[0m\u001b[0msize\u001b[0m \u001b[1;33m!=\u001b[0m \u001b[0my\u001b[0m\u001b[1;33m.\u001b[0m\u001b[0msize\u001b[0m\u001b[1;33m:\u001b[0m\u001b[1;33m\u001b[0m\u001b[1;33m\u001b[0m\u001b[0m\n\u001b[1;32m-> 4441\u001b[1;33m             \u001b[1;32mraise\u001b[0m \u001b[0mValueError\u001b[0m\u001b[1;33m(\u001b[0m\u001b[1;34m\"x and y must be the same size\"\u001b[0m\u001b[1;33m)\u001b[0m\u001b[1;33m\u001b[0m\u001b[1;33m\u001b[0m\u001b[0m\n\u001b[0m\u001b[0;32m   4442\u001b[0m \u001b[1;33m\u001b[0m\u001b[0m\n\u001b[0;32m   4443\u001b[0m         \u001b[1;32mif\u001b[0m \u001b[0ms\u001b[0m \u001b[1;32mis\u001b[0m \u001b[1;32mNone\u001b[0m\u001b[1;33m:\u001b[0m\u001b[1;33m\u001b[0m\u001b[1;33m\u001b[0m\u001b[0m\n",
      "\u001b[1;31mValueError\u001b[0m: x and y must be the same size"
     ]
    },
    {
     "data": {
      "image/png": "[encoded data removed]",
      "text/plain": [
       "<Figure size 432x288 with 1 Axes>"
      ]
     },
     "metadata": {
      "needs_background": "light"
     },
     "output_type": "display_data"
    }
   ],
   "source": [
    "nl_doe = np.repeat(n_layers, n_neurons.shape[0])\n",
    "nn_doe = np.tile(n_neurons, n_layers.shape[0])\n",
    "print(\n",
    "    'Best configuration: {} layers with {} neurons'.format(\n",
    "    nl_doe[np.argmin(np.array(losses))], nn_doe[np.argmin(np.array(losses))]\n",
    "    )\n",
    ")\n",
    "model = models[np.argmin(np.array(losses))]\n",
    "# Plot predicted stress-strain\n",
    "model_s = Model(model.net.get_layer('strains').input, model.net.get_layer('out').output)\n",
    "S = model_s.predict(test_data.x_train)\n",
    "ex = np.linspace(-0.01, 0.02, 100)\n",
    "ey = np.linspace(-0.01, 0.01, 100)\n",
    "gxy = np.linspace(-0.1, 0.3, 100)\n",
    "E1, E2, v12, v21, G12 = 48, 48, 0.14, 0.14, 2.5\n",
    "# Plot e1 vs s1\n",
    "plt.scatter(x_train[::1000, 0], S[::1000, 0, 0], s=4, alpha=0.3, label='$\\\\varepsilon_{11} - \\sigma_{11}$')\n",
    "plt.plot(ex, E1*(ex), linestyle='--', alpha=.6, color='black')\n",
    "# Plot e2 vs s2\n",
    "plt.scatter(x_train[::1000, 1], S[::1000, 0, 1], s=4, alpha=0.3, label='$\\\\varepsilon_{22} - \\sigma_{11}$')\n",
    "plt.plot(ey, E2*ey-v21*E1*ex, linestyle='--', alpha=.3, color='black')\n",
    "# Plot gamma12 vs tau12\n",
    "plt.scatter(x_train[::1000, 2], S[::1000, 0, 2], s=4, alpha=0.3, label='$\\\\gamma_{12} - \\\\tau_{12}$')\n",
    "plt.plot(gxy, G12*gxy, linestyle='--', alpha=.6, color='black')\n",
    "plt.xlabel('Strain'), plt.ylabel('Stress [GPa]')\n",
    "plt.ylim(0, 1), plt.xlim(0,)\n",
    "plt.legend()\n",
    "\n"
   ]
  },
  {
   "cell_type": "code",
   "execution_count": 301,
   "metadata": {},
   "outputs": [
    {
     "ename": "TypeError",
     "evalue": "unsupported operand type(s) for /: 'tuple' and 'int'",
     "output_type": "error",
     "traceback": [
      "\u001b[1;31m---------------------------------------------------------------------------\u001b[0m",
      "\u001b[1;31mTypeError\u001b[0m                                 Traceback (most recent call last)",
      "\u001b[1;32m<ipython-input-301-da1f4dee08c9>\u001b[0m in \u001b[0;36m<module>\u001b[1;34m\u001b[0m\n\u001b[0;32m      1\u001b[0m \u001b[0mdata\u001b[0m \u001b[1;33m=\u001b[0m \u001b[0mscipy\u001b[0m\u001b[1;33m.\u001b[0m\u001b[0mio\u001b[0m\u001b[1;33m.\u001b[0m\u001b[0mloadmat\u001b[0m\u001b[1;33m(\u001b[0m\u001b[1;34m'Standard_test/A20_2f_s50.mat'\u001b[0m\u001b[1;33m)\u001b[0m\u001b[1;33m\u001b[0m\u001b[1;33m\u001b[0m\u001b[0m\n\u001b[1;32m----> 2\u001b[1;33m \u001b[0mprint\u001b[0m\u001b[1;33m(\u001b[0m\u001b[0mdata\u001b[0m\u001b[1;33m[\u001b[0m\u001b[1;34m'F'\u001b[0m\u001b[1;33m]\u001b[0m\u001b[1;33m.\u001b[0m\u001b[0mshape\u001b[0m\u001b[1;33m/\u001b[0m\u001b[1;36m43520\u001b[0m\u001b[1;33m)\u001b[0m\u001b[1;33m\u001b[0m\u001b[1;33m\u001b[0m\u001b[0m\n\u001b[0m\u001b[0;32m      3\u001b[0m \u001b[0mprint\u001b[0m\u001b[1;33m(\u001b[0m\u001b[0mdata\u001b[0m\u001b[1;33m[\u001b[0m\u001b[1;34m'd'\u001b[0m\u001b[1;33m]\u001b[0m\u001b[1;33m.\u001b[0m\u001b[0mshape\u001b[0m\u001b[1;33m)\u001b[0m\u001b[1;33m\u001b[0m\u001b[1;33m\u001b[0m\u001b[0m\n\u001b[0;32m      4\u001b[0m \u001b[0mprint\u001b[0m\u001b[1;33m(\u001b[0m\u001b[0mdata\u001b[0m\u001b[1;33m[\u001b[0m\u001b[1;34m'nelem'\u001b[0m\u001b[1;33m]\u001b[0m\u001b[1;33m)\u001b[0m\u001b[1;33m\u001b[0m\u001b[1;33m\u001b[0m\u001b[0m\n",
      "\u001b[1;31mTypeError\u001b[0m: unsupported operand type(s) for /: 'tuple' and 'int'"
     ]
    }
   ],
   "source": [
    "data = scipy.io.loadmat('Standard_test/A20_2f_s50.mat')\n",
    "print(data['F'].shape/43520)\n",
    "print(data['d'].shape)\n",
    "print(data['nelem'])"
   ]
  }
 ],
 "metadata": {
  "kernelspec": {
   "display_name": "Python 3",
   "language": "python",
   "name": "python3"
  },
  "language_info": {
   "codemirror_mode": {
    "name": "ipython",
    "version": 3
   },
   "file_extension": ".py",
   "mimetype": "text/x-python",
   "name": "python",
   "nbconvert_exporter": "python",
   "pygments_lexer": "ipython3",
   "version": "3.8.5"
  }
 },
 "nbformat": 4,
 "nbformat_minor": 4
}
